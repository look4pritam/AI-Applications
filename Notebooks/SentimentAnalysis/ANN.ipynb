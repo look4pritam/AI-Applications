{
  "nbformat": 4,
  "nbformat_minor": 0,
  "metadata": {
    "colab": {
      "provenance": [],
      "include_colab_link": true
    },
    "kernelspec": {
      "name": "python3",
      "display_name": "Python 3"
    },
    "accelerator": "GPU",
    "gpuClass": "standard"
  },
  "cells": [
    {
      "cell_type": "markdown",
      "metadata": {
        "id": "view-in-github",
        "colab_type": "text"
      },
      "source": [
        "<a href=\"https://colab.research.google.com/github/look4pritam/ArtificialIntelligence/blob/master/Applications/Notebooks/SentimentAnalysis/ANN.ipynb\" target=\"_parent\"><img src=\"https://colab.research.google.com/assets/colab-badge.svg\" alt=\"Open In Colab\"/></a>"
      ]
    },
    {
      "cell_type": "markdown",
      "metadata": {
        "id": "hr2SibbfIeP1"
      },
      "source": [
        "# Sentiment analysis\n",
        "In this assignment, we will learn to create neural network model for [sentiment analysis](https://en.wikipedia.org/wiki/Sentiment_analysis) using [neural network](https://en.wikipedia.org/wiki/Neural_network) approach. "
      ]
    },
    {
      "cell_type": "markdown",
      "metadata": {
        "id": "FsED_4KnV2fD"
      },
      "source": [
        "### Import required python modules."
      ]
    },
    {
      "cell_type": "code",
      "metadata": {
        "id": "CThMTWltflv0"
      },
      "source": [
        "import numpy as np\n",
        "np.random.seed(7)"
      ],
      "execution_count": 1,
      "outputs": []
    },
    {
      "cell_type": "code",
      "source": [
        "import tensorflow as tf\n",
        "from tensorflow.keras.datasets import imdb"
      ],
      "metadata": {
        "id": "qS9WjxUh8QYv"
      },
      "execution_count": 2,
      "outputs": []
    },
    {
      "cell_type": "markdown",
      "metadata": {
        "id": "zipJYNk0KA3T"
      },
      "source": [
        "### Load the IMDb dataset.\n",
        "\n",
        "Keras has a built-in [IMDb movie reviews dataset](https://keras.io/datasets). We will use this dataset.\n",
        "- Set vocabulary size = 5000.\n",
        "- Set embedding size = 32.\n",
        "- Load IMDb dataset.\n",
        "\n",
        "### Hints\n",
        "- [IMDb movie reviews dataset](https://keras.io/datasets)"
      ]
    },
    {
      "cell_type": "code",
      "metadata": {
        "id": "VBXmCMrtfp4F",
        "colab": {
          "base_uri": "https://localhost:8080/"
        },
        "outputId": "1e38088e-667f-4779-fecb-39729b2d876d"
      },
      "source": [
        "vocabulary_size = 5000\n",
        "embedding_size = 32\n",
        "\n",
        "(X_train, y_train), (X_test, y_test) = imdb.load_data(num_words=vocabulary_size)\n",
        "print('Loaded IMDB dataset with {} training samples and {} test samples.'.format(len(X_train), len(X_test)))"
      ],
      "execution_count": 3,
      "outputs": [
        {
          "output_type": "stream",
          "name": "stdout",
          "text": [
            "Downloading data from https://storage.googleapis.com/tensorflow/tf-keras-datasets/imdb.npz\n",
            "17464789/17464789 [==============================] - 2s 0us/step\n",
            "Loaded IMDB dataset with 25000 training samples and 25000 test samples.\n"
          ]
        }
      ]
    },
    {
      "cell_type": "code",
      "metadata": {
        "id": "t_lrYTF_fz_J",
        "colab": {
          "base_uri": "https://localhost:8080/"
        },
        "outputId": "69ee80e2-f043-48ce-bbb0-48d49f40f010"
      },
      "source": [
        "sample_index = np.random.randint(0, X_train.shape[0])\n",
        "\n",
        "print('Review ', X_train[sample_index])\n",
        "print('Label ', y_train[sample_index])"
      ],
      "execution_count": 4,
      "outputs": [
        {
          "output_type": "stream",
          "name": "stdout",
          "text": [
            "Review  [1, 4002, 24, 6, 78, 96, 8, 380, 12, 13, 197, 14, 16, 204, 21, 95, 13, 1957, 12, 16, 6, 2, 7, 4, 2, 1034, 7, 711, 1991, 13, 115, 219, 711, 1991, 366, 13, 16, 1119, 13, 219, 14, 22, 54, 13, 16, 790, 4, 598, 2, 2, 228, 80, 79, 1571, 11, 129, 419, 24, 8, 760, 4, 598, 756, 613, 34, 4, 2, 14, 9, 4, 249, 1664, 302, 207, 126, 110, 33, 4, 172, 58, 14, 22, 1287, 6, 3942, 2, 7, 503, 102, 906, 4414, 193, 6, 2, 5, 140, 8, 1445, 276, 4, 2, 11, 129, 2, 5, 25, 28, 2, 671, 13, 377, 319, 14, 22, 23, 20, 2, 2, 34, 3584, 50, 9, 31, 136, 121, 12, 16, 40, 711, 1991, 11, 2, 11, 711, 1991, 29, 2, 4, 250, 5, 2, 56, 4, 1430, 21, 11, 14, 22, 29, 2, 180, 4, 1430, 5, 2, 4, 250, 37, 16, 1454, 82, 187, 15, 291, 16, 160, 1991, 2, 4887, 2, 132, 2, 63, 385, 39, 2579, 1991, 50, 9, 6, 176, 7, 4286, 2, 139, 5, 2, 648, 531, 14, 22, 80, 563, 25, 1104, 12, 9, 40, 13, 301, 43, 160, 711, 1991, 2, 1150, 3245, 18, 567, 1101, 2, 791, 5, 49, 629, 139]\n",
            "Label  0\n"
          ]
        }
      ]
    },
    {
      "cell_type": "code",
      "metadata": {
        "id": "1cTwM0Y6f2uu",
        "colab": {
          "base_uri": "https://localhost:8080/"
        },
        "outputId": "7f379b24-7e8b-4dbc-c821-bdd7a760dd41"
      },
      "source": [
        "word_to_identifier = imdb.get_word_index()\n",
        "identifier_to_word = {i: word for word, i in word_to_identifier.items()}\n",
        "\n",
        "print('Review with words' , [identifier_to_word.get(i, ' ') for i in X_train[sample_index]])\n",
        "print('Label ' , y_train[sample_index])"
      ],
      "execution_count": 5,
      "outputs": [
        {
          "output_type": "stream",
          "name": "stdout",
          "text": [
            "Downloading data from https://storage.googleapis.com/tensorflow/tf-keras-datasets/imdb_word_index.json\n",
            "1641221/1641221 [==============================] - 1s 1us/step\n",
            "Review with words ['the', 'staff', 'his', 'is', 'do', 'too', 'in', 'sex', 'that', 'was', 'between', 'as', 'with', \"i've\", 'not', 'them', 'was', 'unfunny', 'that', 'with', 'is', 'and', 'br', 'of', 'and', 'further', 'br', 'easily', 'gags', 'was', 'best', 'least', 'easily', 'gags', 'friends', 'was', 'with', 'italian', 'was', 'least', 'as', 'you', 'no', 'was', 'with', 'among', 'of', 'complete', 'and', 'and', 'making', 'into', 'also', 'seconds', 'this', 'man', 'yes', 'his', 'in', 'add', 'of', 'complete', 'stand', 'annoying', 'who', 'of', 'and', 'as', 'it', 'of', 'sure', 'teenage', 'instead', 'always', 'your', 'life', 'they', 'of', 'every', 'my', 'as', 'you', 'comedies', 'is', 'pretend', 'and', 'br', 'child', 'characters', 'meet', 'celebrity', 'long', 'is', 'and', 'to', 'through', 'in', 'happening', 'maybe', 'of', 'and', 'this', 'man', 'and', 'to', 'have', 'one', 'and', 'important', 'was', 'start', 'wife', 'as', 'you', 'are', 'on', 'and', 'and', 'who', 'size', 'more', 'it', 'by', 'scenes', 'know', 'that', 'with', 'just', 'easily', 'gags', 'this', 'and', 'this', 'easily', 'gags', 'all', 'and', 'of', 'fun', 'to', 'and', 'she', 'of', 'names', 'not', 'this', 'as', 'you', 'all', 'and', 'things', 'of', 'names', 'to', 'and', 'of', 'fun', 'like', 'with', 'puts', 'other', 'however', 'for', 'someone', 'with', 'funny', 'gags', 'and', 'masterpieces', 'and', 'say', 'and', 'really', 'moments', 'or', 'junk', 'gags', 'more', 'it', 'is', 'quite', 'br', 'diane', 'and', 'something', 'to', 'and', 'level', 'hour', 'as', 'you', 'into', 'cannot', 'have', 'value', 'that', 'it', 'just', 'was', 'takes', 'out', 'funny', 'easily', 'gags', 'and', 'hair', '16', 'but', 'stop', 'laughing', 'and', 'follow', 'to', 'good', 'hero', 'something']\n",
            "Label  0\n"
          ]
        }
      ]
    },
    {
      "cell_type": "code",
      "metadata": {
        "id": "sadHcSgCgATe",
        "colab": {
          "base_uri": "https://localhost:8080/"
        },
        "outputId": "c7e883c3-7194-49fc-8332-9123de3960d5"
      },
      "source": [
        "print('Maximum review length: {}'.format(len(max((X_train + X_test), key=len))))\n",
        "print('Minimum review length: {}'.format(len(min((X_test + X_test), key=len))))"
      ],
      "execution_count": 6,
      "outputs": [
        {
          "output_type": "stream",
          "name": "stdout",
          "text": [
            "Maximum review length: 2697\n",
            "Minimum review length: 14\n"
          ]
        }
      ]
    },
    {
      "cell_type": "markdown",
      "metadata": {
        "id": "TlpY9soxLQIS"
      },
      "source": [
        "### Pad sequences\n",
        "\n",
        "In order to feed this data into our neural network model, all input documents must have the same length. We will limit the maximum review length to max_words is equal to 500 by truncating longer reviews and padding shorter reviews with a null value (0). We can accomplish this using the [pad_sequences(...)](https://keras.io/preprocessing/sequence/) function in Keras. \n",
        "\n",
        "\n",
        "### Hints\n",
        "- [pad_sequences()](https://keras.io/preprocessing/sequence/)"
      ]
    },
    {
      "cell_type": "code",
      "metadata": {
        "id": "b_536DgLgILM"
      },
      "source": [
        "from tensorflow.keras.preprocessing import sequence\n",
        "\n",
        "max_words = 500\n",
        "\n",
        "X_train = sequence.pad_sequences(X_train, maxlen=max_words)\n",
        "X_test = sequence.pad_sequences(X_test, maxlen=max_words)"
      ],
      "execution_count": 7,
      "outputs": []
    },
    {
      "cell_type": "code",
      "metadata": {
        "id": "AmkbSHgzaabt"
      },
      "source": [
        "validation_size = 1000\n",
        "\n",
        "X_val, y_val = X_train[:validation_size], y_train[:validation_size]\n",
        "X_train, y_train = X_train[validation_size:], y_train[validation_size:]"
      ],
      "execution_count": 8,
      "outputs": []
    },
    {
      "cell_type": "markdown",
      "metadata": {
        "id": "e6ktTKxCZeL8"
      },
      "source": [
        "### Use Adam optimizer.\n",
        "\n",
        "*   Import Adam optimizer from keras optimizers. See [link](https://keras.io/optimizers/) for details.\n",
        "*   Create an object of Adam optimizer with learning rate  value 0.001."
      ]
    },
    {
      "cell_type": "code",
      "metadata": {
        "id": "F7XymosWZguY"
      },
      "source": [
        "from tensorflow import keras\n",
        "from tensorflow.keras.optimizers import Adam\n",
        "\n",
        "learning_rate = 0.001\n",
        "optimizer = Adam(learning_rate=learning_rate)"
      ],
      "execution_count": 9,
      "outputs": []
    },
    {
      "cell_type": "markdown",
      "metadata": {
        "id": "d0bl-Pa0bnZm"
      },
      "source": [
        "### Import required python modules."
      ]
    },
    {
      "cell_type": "code",
      "source": [
        "from matplotlib import pyplot\n",
        "\n",
        "def show_graph(history):  \n",
        "    pyplot.plot(history.history['accuracy'])\n",
        "    pyplot.plot(history.history['val_accuracy'])\n",
        "    pyplot.title('Model accuracy')\n",
        "    pyplot.ylabel('Accuracy')\n",
        "    pyplot.xlabel('Epoch')\n",
        "    pyplot.legend(['Train', 'Validation'], loc='upper left')\n",
        "    pyplot.show()\n",
        "\n",
        "    pyplot.plot(history.history['loss'])\n",
        "    pyplot.plot(history.history['val_loss'])\n",
        "    pyplot.title('Model loss')\n",
        "    pyplot.ylabel('Loss')\n",
        "    pyplot.xlabel('Epoch')\n",
        "    pyplot.legend(['Train', 'Validation'], loc='upper left')\n",
        "    pyplot.show()"
      ],
      "metadata": {
        "id": "n95yeOLZL0xZ"
      },
      "execution_count": 10,
      "outputs": []
    },
    {
      "cell_type": "code",
      "metadata": {
        "id": "AeT-oSq4bqbN"
      },
      "source": [
        "from tensorflow.keras.models import Sequential\n",
        "from tensorflow.keras.layers import Dense\n",
        "from tensorflow.keras.layers import Dropout\n",
        "from tensorflow.keras.layers import Flatten\n",
        "from tensorflow.keras.layers import Embedding"
      ],
      "execution_count": 11,
      "outputs": []
    },
    {
      "cell_type": "markdown",
      "metadata": {
        "id": "Dcgg5vA1XdQN"
      },
      "source": [
        "### Create a simple neural network model using Keras.\n",
        "\n",
        "1. Create a sequential model. See [link](https://keras.io/models/sequential/) for details.\n",
        "\n",
        "2. Add an embedding layer to the model. See [link](https://keras.io/layers/embeddings) for more details.\n",
        "Set input_dim = vocabulary_size, output_dim = embedding_size and input_length = max_words.\n",
        "\n",
        "3. Add a flatten layer to the the model. See [link](https://keras.io/layers/core/) for details.\n",
        "\n",
        "4. Add a dense layer to the model. See [link](https://keras.io/layers/core/) for details. Set units = 64, activation = relu for the layer.\n",
        "\n",
        "5. Add a dense layer to the model. Set units = 1, activation = sigmoid for the layer."
      ]
    },
    {
      "cell_type": "code",
      "metadata": {
        "id": "Klww5EU62wWD"
      },
      "source": [
        "nn_model = Sequential()\n",
        "nn_model.add(Embedding(input_dim=vocabulary_size, output_dim=embedding_size, input_length=max_words))\n",
        "nn_model.add(Flatten())\n",
        "nn_model.add(Dense(units=64, activation='relu'))\n",
        "nn_model.add(Dense(units=1, activation='sigmoid'))"
      ],
      "execution_count": 12,
      "outputs": []
    },
    {
      "cell_type": "markdown",
      "metadata": {
        "id": "nGeR8MvcbZFp"
      },
      "source": [
        "### Compile the simple neural network model.\n",
        "\n",
        "1. See [link](https://keras.io/models/model/) for details.\n",
        "2. Set loss = binary_crossentropy.\n",
        "3. Set optimizer=optimizer (created Adam optimizer).\n",
        "4. Set metrics = accuracy.\n",
        "5. Print model summary for visualization."
      ]
    },
    {
      "cell_type": "code",
      "metadata": {
        "id": "fd50doLNb7x3",
        "colab": {
          "base_uri": "https://localhost:8080/"
        },
        "outputId": "aa81b9c1-4e6f-4be9-9b33-aa6f6c0d1873"
      },
      "source": [
        "nn_model.compile(loss='binary_crossentropy', optimizer=optimizer, metrics=['accuracy'])\n",
        "print(nn_model.summary())"
      ],
      "execution_count": 13,
      "outputs": [
        {
          "output_type": "stream",
          "name": "stdout",
          "text": [
            "Model: \"sequential\"\n",
            "_________________________________________________________________\n",
            " Layer (type)                Output Shape              Param #   \n",
            "=================================================================\n",
            " embedding (Embedding)       (None, 500, 32)           160000    \n",
            "                                                                 \n",
            " flatten (Flatten)           (None, 16000)             0         \n",
            "                                                                 \n",
            " dense (Dense)               (None, 64)                1024064   \n",
            "                                                                 \n",
            " dense_1 (Dense)             (None, 1)                 65        \n",
            "                                                                 \n",
            "=================================================================\n",
            "Total params: 1,184,129\n",
            "Trainable params: 1,184,129\n",
            "Non-trainable params: 0\n",
            "_________________________________________________________________\n",
            "None\n"
          ]
        }
      ]
    },
    {
      "cell_type": "markdown",
      "metadata": {
        "id": "i9ul4rFibzaI"
      },
      "source": [
        "### Train the simple neural network model.\n",
        "\n",
        "1. Set number of epochs between 10-20.\n",
        "2. Set batch size as multiple of 32 i.e. either 32 or 64.\n",
        "3.  Call function fit(...) on the model. \n",
        "4.  See [link](https://keras.io/models/model/) for details.\n",
        "5. Pass X_train and y_train for training the model\n",
        "6. Pass X_val and y_val as validation data."
      ]
    },
    {
      "cell_type": "code",
      "metadata": {
        "id": "kyOwShMHcCdP"
      },
      "source": [
        "num_epochs = 10\n",
        "batch_size = 64"
      ],
      "execution_count": 14,
      "outputs": []
    },
    {
      "cell_type": "code",
      "metadata": {
        "id": "zDJ2xEQ9dwS7",
        "colab": {
          "base_uri": "https://localhost:8080/",
          "height": 1000
        },
        "outputId": "3078cd39-5bb6-42df-828e-09a9d908281a"
      },
      "source": [
        "history = nn_model.fit(X_train, y_train, validation_data=(X_val, y_val), batch_size=batch_size, epochs=num_epochs)\n",
        "show_graph(history)"
      ],
      "execution_count": 15,
      "outputs": [
        {
          "output_type": "stream",
          "name": "stdout",
          "text": [
            "Epoch 1/10\n",
            "375/375 [==============================] - 56s 133ms/step - loss: 0.4322 - accuracy: 0.7786 - val_loss: 0.2773 - val_accuracy: 0.8900\n",
            "Epoch 2/10\n",
            "375/375 [==============================] - 19s 50ms/step - loss: 0.1593 - accuracy: 0.9424 - val_loss: 0.2977 - val_accuracy: 0.8730\n",
            "Epoch 3/10\n",
            "375/375 [==============================] - 12s 31ms/step - loss: 0.0434 - accuracy: 0.9893 - val_loss: 0.3719 - val_accuracy: 0.8600\n",
            "Epoch 4/10\n",
            "375/375 [==============================] - 6s 16ms/step - loss: 0.0072 - accuracy: 0.9992 - val_loss: 0.4334 - val_accuracy: 0.8670\n",
            "Epoch 5/10\n",
            "375/375 [==============================] - 5s 14ms/step - loss: 0.0017 - accuracy: 1.0000 - val_loss: 0.4828 - val_accuracy: 0.8690\n",
            "Epoch 6/10\n",
            "375/375 [==============================] - 4s 12ms/step - loss: 7.3105e-04 - accuracy: 1.0000 - val_loss: 0.4810 - val_accuracy: 0.8740\n",
            "Epoch 7/10\n",
            "375/375 [==============================] - 4s 10ms/step - loss: 3.6924e-04 - accuracy: 1.0000 - val_loss: 0.5008 - val_accuracy: 0.8720\n",
            "Epoch 8/10\n",
            "375/375 [==============================] - 4s 12ms/step - loss: 2.3873e-04 - accuracy: 1.0000 - val_loss: 0.5171 - val_accuracy: 0.8720\n",
            "Epoch 9/10\n",
            "375/375 [==============================] - 4s 11ms/step - loss: 1.6583e-04 - accuracy: 1.0000 - val_loss: 0.5315 - val_accuracy: 0.8730\n",
            "Epoch 10/10\n",
            "375/375 [==============================] - 3s 7ms/step - loss: 1.1868e-04 - accuracy: 1.0000 - val_loss: 0.5461 - val_accuracy: 0.8720\n"
          ]
        },
        {
          "output_type": "display_data",
          "data": {
            "text/plain": [
              "<Figure size 640x480 with 1 Axes>"
            ],
            "image/png": "[encoded data removed]"
          },
          "metadata": {}
        },
        {
          "output_type": "display_data",
          "data": {
            "text/plain": [
              "<Figure size 640x480 with 1 Axes>"
            ],
            "image/png": "[encoded data removed]"
          },
          "metadata": {}
        }
      ]
    },
    {
      "cell_type": "markdown",
      "metadata": {
        "id": "DT-JRH1acOuX"
      },
      "source": [
        "### Print the model accuracy."
      ]
    },
    {
      "cell_type": "code",
      "metadata": {
        "id": "6D5RTtEBcPMH",
        "colab": {
          "base_uri": "https://localhost:8080/"
        },
        "outputId": "ee254e52-edab-45cd-a1ab-5f2b6bc4ebb4"
      },
      "source": [
        "scores = nn_model.evaluate(X_test, y_test, verbose=0)\n",
        "print(\"Accuracy: %.2f%%\" % (scores[1]*100))"
      ],
      "execution_count": 16,
      "outputs": [
        {
          "output_type": "stream",
          "name": "stdout",
          "text": [
            "Accuracy: 86.87%\n"
          ]
        }
      ]
    },
    {
      "cell_type": "markdown",
      "metadata": {
        "id": "VCb3UHFAeULn"
      },
      "source": [
        "**Expected Output**:\n",
        "\n",
        "<table>\n",
        "    <tr>\n",
        "        <td>\n",
        "            Test accuracy\n",
        "        </td>\n",
        "        <td>\n",
        "           between 75.0 and 95.0\n",
        "        </td>\n",
        "    </tr>\n",
        "</table>"
      ]
    }
  ]
}